{
 "cells": [
  {
   "cell_type": "code",
   "execution_count": null,
   "metadata": {},
   "outputs": [],
   "source": [
    "import numpy as np\n",
    "import pickle\n",
    "import pandas as pd\n",
    "#from flasgger import Swagger\n",
    "import streamlit as st \n",
    "\n",
    "from PIL import Image\n",
    "\n",
    "#app=Flask(__name__)\n",
    "#Swagger(app)\n",
    "\n",
    "i = open(\"classifier.sav\",\"rb\")\n",
    "classifier=pickle.load(i)\n",
    "\n",
    "\n",
    "#@app.route('/predict',methods=[\"Get\"])\n",
    "def predict_note_authentication(having_IP_Address,URL_Length,Shortining_Service,having_At_Symbol,double_slash_redirecting,Prefix_Suffix,having_Sub_Domain,SSLfinal_State,Domain_registeration_length,Favicon,port,HTTPS_token,Request_URL,URL_of_Anchor,Links_in_tags,SFH,Submitting_to_email,Abnormal_URL,Redirect,on_mouseover,RightClick,popUpWidnow,Iframe,age_of_domain,DNSRecord,web_traffic,Page_Rank,Google_Index,Links_pointing_to_page,Statistical_report):\n",
    "    \n",
    "    prediction=classifier.predict([[having_IP_Address,URL_Length,Shortining_Service,having_At_Symbol,double_slash_redirecting,Prefix_Suffix,having_Sub_Domain,SSLfinal_State,Domain_registeration_length,Favicon,port,HTTPS_token,Request_URL,URL_of_Anchor,Links_in_tags,SFH,Submitting_to_email,Abnormal_URL,Redirect,on_mouseover,RightClick,popUpWidnow,Iframe,age_of_domain,DNSRecord,web_traffic,Page_Rank,Google_Index,Links_pointing_to_page,Statistical_report]])\n",
    "    print(prediction)\n",
    "    return prediction\n",
    "\n",
    "\n",
    "\n",
    "def main():\n",
    "    st.title(\"Phising Website \")\n",
    "    html_temp = \"\"\"\n",
    "    <div style=\"background-color:tomato;padding:10px\">\n",
    "    <h2 style=\"color:white;text-align:center;\">Streamlit Phising Website ML App </h2>\n",
    "    </div>\n",
    "    \"\"\"\n",
    "\n",
    " \n",
    "    st.markdown(html_temp,unsafe_allow_html=True)\n",
    "    having_IP_Address = st.text_input(\"having_IP_Address\",\"Type Here\")\n",
    "    URL_Length = st.text_input(\"URL_Length\",\"Type Here\")\n",
    "    Shortining_Service = st.text_input(\"Shortining_Service\",\"Type Here\")\n",
    "    having_At_Symbol = st.text_input(\"having_At_Symbol\",\"Type Here\")\n",
    "    double_slash_redirecting = st.text_input(\"double_slash_redirecting\",\"Type Here\")\n",
    "    Prefix_Suffix = st.text_input(\"Prefix_Suffix\",\"Type Here\")\n",
    "    having_Sub_Domain = st.text_input(\"having_Sub_Domain\",\"Type Here\")\n",
    "    SSLfinal_State = st.text_input(\"SSLfinal_State\",\"Type Here\")\n",
    "    Domain_registeration_length = st.text_input(\"Domain_registeration_length\",\"Type Here\")\n",
    "    Favicon = st.text_input(\"Favicon\",\"Type Here\")\n",
    "    port = st.text_input(\"port\",\"Type Here\")\n",
    "    HTTPS_token = st.text_input(\"HTTPS_token\",\"Type Here\")\n",
    "    Request_URL = st.text_input(\"Request_URL\",\"Type Here\")\n",
    "    URL_of_Anchor = st.text_input(\"URL_of_Anchor\",\"Type Here\")\n",
    "    Links_in_tags = st.text_input(\"Links_in_tags\",\"Type Here\") \n",
    "    SFH = st.text_input(\"SFH\",\"Type Here\")\n",
    "    Submitting_to_email = st.text_input(\"Submitting_to_email\",\"Type Here\")\n",
    "    Abnormal_URL = st.text_input(\"Abnormal_URL\",\"Type Here\")\n",
    "    Redirect = st.text_input(\"Redirect\",\"Type Here\")\n",
    "    on_mouseover = st.text_input(\"on_mouseover\",\"Type Here\")\n",
    "    RightClick = st.text_input(\"RightClick\",\"Type Here\")\n",
    "    popUpWidnow = st.text_input(\"popUpWidnow\",\"Type Here\")\n",
    "    Iframe = st.text_input(\"Iframe\",\"Type Here\")\n",
    "    age_of_domain = st.text_input(\"age_of_domain\",\"Type Here\")\n",
    "    DNSRecord = st.text_input(\"DNSRecord\",\"Type Here\")\n",
    "    web_traffic = st.text_input(\"web_traffic\",\"Type Here\")\n",
    "    Page_Rank = st.text_input(\"Page_Rank\",\"Type Here\")\n",
    "    Google_Index = st.text_input(\"Google_Index\",\"Type Here\")\n",
    "    Links_pointing_to_page = st.text_input(\"Links_pointing_to_page\",\"Type Here\")\n",
    "    Statistical_report = st.text_input(\"Statistical_report\",\"Type Here\")\n",
    "    result=\"\"\n",
    "    if st.button(\"Predict\"):\n",
    "        result=predict_note_authentication(having_IP_Address,URL_Length,Shortining_Service,having_At_Symbol,double_slash_redirecting,Prefix_Suffix,having_Sub_Domain,SSLfinal_State,Domain_registeration_length,Favicon,port,HTTPS_token,Request_URL,URL_of_Anchor,Links_in_tags,SFH,Submitting_to_email,Abnormal_URL,Redirect,on_mouseover,RightClick,popUpWidnow,Iframe,age_of_domain,DNSRecord,web_traffic,Page_Rank,Google_Index,Links_pointing_to_page,Statistical_report)\n",
    "    st.success('The output is {}'.format(result))\n",
    "    if st.button(\"About\"):\n",
    "        st.text(\"Lets LEarn\")\n",
    "        st.text(\"Built with Streamlit\")\n",
    "\n",
    "if __name__=='__main__':\n",
    "    main()\n",
    "    \n",
    "    \n",
    "    "
   ]
  },
  {
   "cell_type": "code",
   "execution_count": null,
   "metadata": {},
   "outputs": [],
   "source": []
  },
  {
   "cell_type": "code",
   "execution_count": null,
   "metadata": {},
   "outputs": [],
   "source": []
  },
  {
   "cell_type": "code",
   "execution_count": null,
   "metadata": {},
   "outputs": [],
   "source": []
  },
  {
   "cell_type": "code",
   "execution_count": 3,
   "metadata": {},
   "outputs": [],
   "source": []
  },
  {
   "cell_type": "code",
   "execution_count": null,
   "metadata": {},
   "outputs": [],
   "source": []
  },
  {
   "cell_type": "code",
   "execution_count": null,
   "metadata": {},
   "outputs": [],
   "source": []
  },
  {
   "cell_type": "code",
   "execution_count": null,
   "metadata": {},
   "outputs": [],
   "source": []
  },
  {
   "cell_type": "code",
   "execution_count": null,
   "metadata": {},
   "outputs": [],
   "source": []
  },
  {
   "cell_type": "code",
   "execution_count": null,
   "metadata": {},
   "outputs": [],
   "source": []
  },
  {
   "cell_type": "code",
   "execution_count": null,
   "metadata": {},
   "outputs": [],
   "source": []
  }
 ],
 "metadata": {
  "kernelspec": {
   "display_name": "Python 3",
   "language": "python",
   "name": "python3"
  },
  "language_info": {
   "codemirror_mode": {
    "name": "ipython",
    "version": 3
   },
   "file_extension": ".py",
   "mimetype": "text/x-python",
   "name": "python",
   "nbconvert_exporter": "python",
   "pygments_lexer": "ipython3",
   "version": "3.7.6"
  }
 },
 "nbformat": 4,
 "nbformat_minor": 4
}
